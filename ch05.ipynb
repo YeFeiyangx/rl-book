{
 "cells": [
  {
   "cell_type": "markdown",
   "metadata": {
    "deletable": true,
    "editable": true
   },
   "source": [
    "* [Excercise 5.8. Racetrack](#Excercise-5.8.-Racetrack)"
   ]
  },
  {
   "cell_type": "markdown",
   "metadata": {
    "deletable": true,
    "editable": true
   },
   "source": [
    "## Excercise 5.8. Racetrack"
   ]
  },
  {
   "cell_type": "code",
   "execution_count": 1,
   "metadata": {
    "collapsed": true,
    "deletable": true,
    "editable": true
   },
   "outputs": [],
   "source": [
    "from collections import namedtuple\n",
    "import random\n",
    "import numpy as np\n",
    "\n",
    "%matplotlib inline\n",
    "import matplotlib.pyplot as plt"
   ]
  },
  {
   "cell_type": "markdown",
   "metadata": {
    "deletable": true,
    "editable": true
   },
   "source": [
    "Track definitions were copied from https://github.com/jkillingsworth/ReinforcementLearning/blob/master/chapter05/Racetrack/Track.fs"
   ]
  },
  {
   "cell_type": "code",
   "execution_count": 2,
   "metadata": {
    "collapsed": true,
    "deletable": true,
    "editable": true
   },
   "outputs": [],
   "source": [
    "MAX_SPEED = 4\n",
    "N_ACTIONS = 3  # number of actions along x and y: 0, 1, -1"
   ]
  },
  {
   "cell_type": "code",
   "execution_count": 3,
   "metadata": {
    "collapsed": true,
    "deletable": true,
    "editable": true
   },
   "outputs": [],
   "source": [
    "track1 = \"\"\"\n",
    "                  \n",
    "   XXXXXXXXXXXXXF \n",
    "  XXXXXXXXXXXXXXF \n",
    "  XXXXXXXXXXXXXXF \n",
    " XXXXXXXXXXXXXXXF \n",
    "XXXXXXXXXXXXXXXXF \n",
    "XXXXXXXXXXXXXXXXF \n",
    "XXXXXXXXXX        \n",
    "XXXXXXXXX         \n",
    "XXXXXXXXX         \n",
    "XXXXXXXXX         \n",
    "XXXXXXXXX         \n",
    "XXXXXXXXX         \n",
    "XXXXXXXXX         \n",
    "XXXXXXXXX         \n",
    " XXXXXXXX         \n",
    " XXXXXXXX         \n",
    " XXXXXXXX         \n",
    " XXXXXXXX         \n",
    " XXXXXXXX         \n",
    " XXXXXXXX         \n",
    " XXXXXXXX         \n",
    " XXXXXXXX         \n",
    "  XXXXXXX         \n",
    "  XXXXXXX         \n",
    "  XXXXXXX         \n",
    "  XXXXXXX         \n",
    "  XXXXXXX         \n",
    "  XXXXXXX         \n",
    "  XXXXXXX         \n",
    "   XXXXXX         \n",
    "   XXXXXX         \n",
    "   SSSSSS         \n",
    "\"\"\""
   ]
  },
  {
   "cell_type": "code",
   "execution_count": 4,
   "metadata": {
    "collapsed": false,
    "deletable": true,
    "editable": true
   },
   "outputs": [],
   "source": [
    "track2 = \"\"\"\n",
    "                                 \n",
    "                XXXXXXXXXXXXXXXF \n",
    "             XXXXXXXXXXXXXXXXXXF \n",
    "            XXXXXXXXXXXXXXXXXXXF \n",
    "           XXXXXXXXXXXXXXXXXXXXF \n",
    "           XXXXXXXXXXXXXXXXXXXXF \n",
    "           XXXXXXXXXXXXXXXXXXXXF \n",
    "           XXXXXXXXXXXXXXXXXXXXF \n",
    "            XXXXXXXXXXXXXXXXXXXF \n",
    "             XXXXXXXXXXXXXXXXXXF \n",
    "              XXXXXXXXXXXXXXXX   \n",
    "              XXXXXXXXXXXXX      \n",
    "              XXXXXXXXXXXX       \n",
    "              XXXXXXXXXX         \n",
    "              XXXXXXXXX          \n",
    "             XXXXXXXXXX          \n",
    "            XXXXXXXXXXX          \n",
    "           XXXXXXXXXXXX          \n",
    "          XXXXXXXXXXXXX          \n",
    "         XXXXXXXXXXXXXX          \n",
    "        XXXXXXXXXXXXXXX          \n",
    "       XXXXXXXXXXXXXXXX          \n",
    "      XXXXXXXXXXXXXXXXX          \n",
    "     XXXXXXXXXXXXXXXXXX          \n",
    "    XXXXXXXXXXXXXXXXXXX          \n",
    "   XXXXXXXXXXXXXXXXXXXX          \n",
    "  XXXXXXXXXXXXXXXXXXXXX          \n",
    " XXXXXXXXXXXXXXXXXXXXXX          \n",
    "XXXXXXXXXXXXXXXXXXXXXXX          \n",
    "XXXXXXXXXXXXXXXXXXXXXXX          \n",
    "SSSSSSSSSSSSSSSSSSSSSSS          \n",
    "\"\"\""
   ]
  },
  {
   "cell_type": "code",
   "execution_count": 5,
   "metadata": {
    "collapsed": true,
    "deletable": true,
    "editable": true
   },
   "outputs": [],
   "source": [
    "State = namedtuple('State', ['x', 'y', 'vx', 'vy']) # current position and speed\n",
    "Action = namedtuple('Action', ['ax', 'ay']) # acceleration along each component\n",
    "Transition = namedtuple('Transition', ['state1',\n",
    "                                       'action',\n",
    "                                       'reward',\n",
    "                                       'state2'])"
   ]
  },
  {
   "cell_type": "code",
   "execution_count": 6,
   "metadata": {
    "collapsed": false,
    "deletable": true,
    "editable": true
   },
   "outputs": [],
   "source": [
    "class RacetrackSolver(object):\n",
    "    def __init__(self, track_str):\n",
    "        rows = track_str.split('\\n')\n",
    "        rows = rows[1:-1] #  remove first and last rows\n",
    "        rows = rows[::-1] #  flip vertically so [0,0] corresponds to bottom left corner\n",
    "        cells = map(list, rows) #  convert rows of strings to rows of chars\n",
    "        self._track = np.array(list(cells))\n",
    "        \n",
    "        # define all possible actions\n",
    "        self.actions = []\n",
    "        for ax in [-1, 0, 1]:\n",
    "            for ay in [-1, 0, 1]:\n",
    "                self.actions.append(Action(ax, ay))\n",
    "        \n",
    "        # init tabular Q(s,a) function\n",
    "        self.q = {} # self.q[s][a]\n",
    "        values_in_state = {}\n",
    "        for a in self.actions:\n",
    "            values_in_state[a] = 0.0\n",
    "        \n",
    "        for s in self.all_states:\n",
    "            self.q[s] = values_in_state.copy()\n",
    "\n",
    "    @property\n",
    "    def all_states(self):\n",
    "        max_y, max_x = self._track.shape\n",
    "        for x in range(max_x):\n",
    "            for y in range(max_y):\n",
    "                for vx in range(MAX_SPEED + 1):\n",
    "                    for vy in range(MAX_SPEED + 1):\n",
    "                        s = State(x, y, vx, vy)\n",
    "                        if self.is_on_track(s):\n",
    "                            yield s\n",
    "    def track_cell(self, x, y):\n",
    "        max_y = self._track.shape[0] - 1\n",
    "        max_x = self._track.shape[1] - 1\n",
    "        \n",
    "        if x < 0 or x > max_x:\n",
    "            return ' '\n",
    "        if y < 0 or y > max_y:\n",
    "            return ' '\n",
    "        \n",
    "        return self._track[y, x]\n",
    "        \n",
    "    def is_on_track(self, state):\n",
    "        assert state.vx <= MAX_SPEED\n",
    "        assert state.vx >= 0\n",
    "        assert state.vy <= MAX_SPEED\n",
    "        assert state.vy >= 0\n",
    "        \n",
    "        return self.track_cell(state.x, state.y) != ' '\n",
    "    \n",
    "    def has_finished(self, state):\n",
    "        return self.track_cell(state.x, state.y) == 'F'\n",
    "                    \n",
    "    def sample_init_state(self):\n",
    "        max_x = self._track.shape[1]\n",
    "        while True:\n",
    "            x = random.randint(0, max_x)\n",
    "            vx = random.choice([0, 1])\n",
    "            vy = random.choice([0, 1])\n",
    "            if vx == 0 and vy == 0:\n",
    "                continue\n",
    "            s = State(x=x, y=0, vx=vx, vy=vy)\n",
    "            if self.is_on_track(s):\n",
    "                break\n",
    "        return s\n",
    "\n",
    "    def generate_episode(self):\n",
    "        s = self.sample_init_state()\n",
    "        trajectory = []\n",
    "        while True:\n",
    "            a = self.random_policy(s)\n",
    "            r, s2, term = self.transition(s, a)\n",
    "            t = Transition(s, a, r, s2)\n",
    "            trajectory.append(t)\n",
    "            if term:\n",
    "                break\n",
    "            s = s2\n",
    "        return trajectory\n",
    "    \n",
    "    def random_policy(self, _):\n",
    "        return random.choice(self.actions)\n",
    "\n",
    "    def transition(self, state, action):\n",
    "        # update speed\n",
    "        vx2 = state.vx + action.ax\n",
    "        vy2 = state.vy + action.ay\n",
    "        \n",
    "        vx2 = np.clip(vx2, 0, MAX_SPEED)\n",
    "        vy2 = np.clip(vy2, 0, MAX_SPEED)\n",
    "        \n",
    "        # keep the speed constant if both components are zero\n",
    "        if vx2 == 0 and vy2 == 0:\n",
    "            vx2, vy2 = state.vx, state.vy\n",
    "        \n",
    "        # advance car position\n",
    "        x2 = state.x + vx2\n",
    "        y2 = state.y + vy2\n",
    "        \n",
    "        # additional random move\n",
    "        if random.random() > 0.5:\n",
    "            if random.random() > 0.5:\n",
    "                x2 += 1 # move right\n",
    "            else:\n",
    "                y2 += 1 # move forward\n",
    "        \n",
    "        collision_y = collision_x = False\n",
    "        # check and fix collisions along 'x'\n",
    "        while True:\n",
    "            s2 = State(x2, state.y, vx2, vy2)\n",
    "            if self.is_on_track(s2):\n",
    "                break\n",
    "            collision_x = True\n",
    "            x2 -= 1\n",
    "            vx2 = 1\n",
    "            assert x2 >= 0\n",
    "        \n",
    "        # check and fix collision along 'y'\n",
    "        while True:\n",
    "            s2 = State(x2, y2, vx2, vy2)\n",
    "            if self.is_on_track(s2):\n",
    "                break\n",
    "            collision_y = True\n",
    "            y2 -= 1\n",
    "            vy2 = 1\n",
    "            assert y2 >= 0\n",
    "            \n",
    "        if state.x == x2 and state.y == y2:\n",
    "            # the car did not move\n",
    "            if collision_y:\n",
    "                x2 += 1\n",
    "            elif collision_x:\n",
    "                y2 += 1\n",
    "            else:\n",
    "                assert False, 'the car has to move'\n",
    "            r = -5\n",
    "        else:\n",
    "            r = -1\n",
    "        \n",
    "        s2 = State(x2, y2, vx2, vy2)\n",
    "        assert self.is_on_track(s2)\n",
    "        \n",
    "        term = self.has_finished(s2)\n",
    "        \n",
    "        if term:\n",
    "            r = 0\n",
    "        return r, s2, term\n"
   ]
  },
  {
   "cell_type": "code",
   "execution_count": 10,
   "metadata": {
    "collapsed": false,
    "deletable": true,
    "editable": true
   },
   "outputs": [],
   "source": [
    "rts1 = RacetrackSolver(track2)"
   ]
  },
  {
   "cell_type": "code",
   "execution_count": 14,
   "metadata": {
    "collapsed": true
   },
   "outputs": [],
   "source": [
    "track_np = np.zeros_like(rts1._track, dtype=int)\n",
    "track_np[rts1._track == 'S'] = 1\n",
    "track_np[rts1._track == 'X'] = 2\n",
    "track_np[rts1._track == 'F'] = 3"
   ]
  },
  {
   "cell_type": "code",
   "execution_count": 16,
   "metadata": {
    "collapsed": false
   },
   "outputs": [
    {
     "data": {
      "image/png": "[encoded data removed]",
      "text/plain": [
       "<matplotlib.figure.Figure at 0x10acafbe0>"
      ]
     },
     "metadata": {},
     "output_type": "display_data"
    }
   ],
   "source": [
    "plt.imshow(track_np)\n",
    "plt.gca().invert_yaxis()\n",
    "\n",
    "trajectory = rts1.generate_episode()\n",
    "for t in trajectory:\n",
    "    plt.plot(t.state2.x, t.state2.y, '.r')"
   ]
  },
  {
   "cell_type": "code",
   "execution_count": null,
   "metadata": {
    "collapsed": true
   },
   "outputs": [],
   "source": []
  },
  {
   "cell_type": "code",
   "execution_count": null,
   "metadata": {
    "collapsed": true
   },
   "outputs": [],
   "source": []
  }
 ],
 "metadata": {
  "kernelspec": {
   "display_name": "Python 3",
   "language": "python",
   "name": "python3"
  },
  "language_info": {
   "codemirror_mode": {
    "name": "ipython",
    "version": 3
   },
   "file_extension": ".py",
   "mimetype": "text/x-python",
   "name": "python",
   "nbconvert_exporter": "python",
   "pygments_lexer": "ipython3",
   "version": "3.6.1"
  }
 },
 "nbformat": 4,
 "nbformat_minor": 2
}
