{
 "cells": [
  {
   "cell_type": "markdown",
   "metadata": {
    "deletable": true,
    "editable": true
   },
   "source": [
    "* [Excercise 5.8. Racetrack](#Excercise-5.8.-Racetrack)"
   ]
  },
  {
   "cell_type": "markdown",
   "metadata": {
    "deletable": true,
    "editable": true
   },
   "source": [
    "## Excercise 5.8. Racetrack"
   ]
  },
  {
   "cell_type": "code",
   "execution_count": 37,
   "metadata": {
    "collapsed": true,
    "deletable": true,
    "editable": true
   },
   "outputs": [],
   "source": [
    "from collections import namedtuple, defaultdict\n",
    "import random\n",
    "import numpy as np\n",
    "from tqdm import tqdm\n",
    "\n",
    "%matplotlib inline\n",
    "import matplotlib.pyplot as plt"
   ]
  },
  {
   "cell_type": "markdown",
   "metadata": {},
   "source": [
    "### Define Racetracks"
   ]
  },
  {
   "cell_type": "markdown",
   "metadata": {
    "deletable": true,
    "editable": true
   },
   "source": [
    "Track definitions were copied from https://github.com/jkillingsworth/ReinforcementLearning/blob/master/chapter05/Racetrack/Track.fs"
   ]
  },
  {
   "cell_type": "code",
   "execution_count": 2,
   "metadata": {
    "collapsed": true,
    "deletable": true,
    "editable": true
   },
   "outputs": [],
   "source": [
    "MAX_SPEED = 4\n",
    "N_ACTIONS = 3  # number of actions along x and y: 0, 1, -1"
   ]
  },
  {
   "cell_type": "code",
   "execution_count": 3,
   "metadata": {
    "collapsed": true,
    "deletable": true,
    "editable": true
   },
   "outputs": [],
   "source": [
    "track1 = \"\"\"\n",
    "                  \n",
    "   XXXXXXXXXXXXXF \n",
    "  XXXXXXXXXXXXXXF \n",
    "  XXXXXXXXXXXXXXF \n",
    " XXXXXXXXXXXXXXXF \n",
    "XXXXXXXXXXXXXXXXF \n",
    "XXXXXXXXXXXXXXXXF \n",
    "XXXXXXXXXX        \n",
    "XXXXXXXXX         \n",
    "XXXXXXXXX         \n",
    "XXXXXXXXX         \n",
    "XXXXXXXXX         \n",
    "XXXXXXXXX         \n",
    "XXXXXXXXX         \n",
    "XXXXXXXXX         \n",
    " XXXXXXXX         \n",
    " XXXXXXXX         \n",
    " XXXXXXXX         \n",
    " XXXXXXXX         \n",
    " XXXXXXXX         \n",
    " XXXXXXXX         \n",
    " XXXXXXXX         \n",
    " XXXXXXXX         \n",
    "  XXXXXXX         \n",
    "  XXXXXXX         \n",
    "  XXXXXXX         \n",
    "  XXXXXXX         \n",
    "  XXXXXXX         \n",
    "  XXXXXXX         \n",
    "  XXXXXXX         \n",
    "   XXXXXX         \n",
    "   XXXXXX         \n",
    "   SSSSSS         \n",
    "\"\"\""
   ]
  },
  {
   "cell_type": "code",
   "execution_count": 4,
   "metadata": {
    "collapsed": false,
    "deletable": true,
    "editable": true
   },
   "outputs": [],
   "source": [
    "track2 = \"\"\"\n",
    "                                 \n",
    "                XXXXXXXXXXXXXXXF \n",
    "             XXXXXXXXXXXXXXXXXXF \n",
    "            XXXXXXXXXXXXXXXXXXXF \n",
    "           XXXXXXXXXXXXXXXXXXXXF \n",
    "           XXXXXXXXXXXXXXXXXXXXF \n",
    "           XXXXXXXXXXXXXXXXXXXXF \n",
    "           XXXXXXXXXXXXXXXXXXXXF \n",
    "            XXXXXXXXXXXXXXXXXXXF \n",
    "             XXXXXXXXXXXXXXXXXXF \n",
    "              XXXXXXXXXXXXXXXX   \n",
    "              XXXXXXXXXXXXX      \n",
    "              XXXXXXXXXXXX       \n",
    "              XXXXXXXXXX         \n",
    "              XXXXXXXXX          \n",
    "             XXXXXXXXXX          \n",
    "            XXXXXXXXXXX          \n",
    "           XXXXXXXXXXXX          \n",
    "          XXXXXXXXXXXXX          \n",
    "         XXXXXXXXXXXXXX          \n",
    "        XXXXXXXXXXXXXXX          \n",
    "       XXXXXXXXXXXXXXXX          \n",
    "      XXXXXXXXXXXXXXXXX          \n",
    "     XXXXXXXXXXXXXXXXXX          \n",
    "    XXXXXXXXXXXXXXXXXXX          \n",
    "   XXXXXXXXXXXXXXXXXXXX          \n",
    "  XXXXXXXXXXXXXXXXXXXXX          \n",
    " XXXXXXXXXXXXXXXXXXXXXX          \n",
    "XXXXXXXXXXXXXXXXXXXXXXX          \n",
    "XXXXXXXXXXXXXXXXXXXXXXX          \n",
    "SSSSSSSSSSSSSSSSSSSSSSS          \n",
    "\"\"\""
   ]
  },
  {
   "cell_type": "code",
   "execution_count": 5,
   "metadata": {
    "collapsed": true,
    "deletable": true,
    "editable": true
   },
   "outputs": [],
   "source": [
    "State = namedtuple('State', ['x', 'y', 'vx', 'vy']) # current position and speed\n",
    "Action = namedtuple('Action', ['ax', 'ay']) # acceleration along each component\n",
    "Transition = namedtuple('Transition', ['state1',\n",
    "                                       'action',\n",
    "                                       'reward',\n",
    "                                       'state2'])"
   ]
  },
  {
   "cell_type": "markdown",
   "metadata": {},
   "source": [
    "### Create Racetrack environment"
   ]
  },
  {
   "cell_type": "code",
   "execution_count": 15,
   "metadata": {
    "collapsed": false,
    "deletable": true,
    "editable": true
   },
   "outputs": [],
   "source": [
    "class Racetrack(object):\n",
    "    def __init__(self, track_str):\n",
    "        rows = track_str.split('\\n')\n",
    "        rows = rows[1:-1] #  remove first and last rows\n",
    "        rows = rows[::-1] #  flip vertically so [0,0] corresponds to bottom left corner\n",
    "        cells = map(list, rows) #  convert rows of strings to rows of chars\n",
    "        self._track = np.array(list(cells))\n",
    "        \n",
    "        self._state = None\n",
    "        \n",
    "        # define all possible actions\n",
    "        self.actions = []\n",
    "        for ax in [-1, 0, 1]:\n",
    "            for ay in [-1, 0, 1]:\n",
    "                self.actions.append(Action(ax, ay))\n",
    "\n",
    "    def _track_cell(self, x, y):\n",
    "        max_y = self._track.shape[0] - 1\n",
    "        max_x = self._track.shape[1] - 1\n",
    "        \n",
    "        if x < 0 or x > max_x:\n",
    "            return ' '\n",
    "        if y < 0 or y > max_y:\n",
    "            return ' '\n",
    "        \n",
    "        return self._track[y, x]\n",
    "        \n",
    "    def _is_on_track(self, state):\n",
    "        assert state.vx <= MAX_SPEED\n",
    "        assert state.vx >= 0\n",
    "        assert state.vy <= MAX_SPEED\n",
    "        assert state.vy >= 0\n",
    "        \n",
    "        return self._track_cell(state.x, state.y) != ' '\n",
    "    \n",
    "    def _has_finished(self, state):\n",
    "        return self._track_cell(state.x, state.y) == 'F'\n",
    "\n",
    "    def _transition(self, state, action):\n",
    "        # update speed\n",
    "        vx2 = state.vx + action.ax\n",
    "        vy2 = state.vy + action.ay\n",
    "        \n",
    "        vx2 = np.clip(vx2, 0, MAX_SPEED)\n",
    "        vy2 = np.clip(vy2, 0, MAX_SPEED)\n",
    "        \n",
    "        # keep the speed constant if both components are zero\n",
    "        if vx2 == 0 and vy2 == 0:\n",
    "            vx2, vy2 = state.vx, state.vy\n",
    "        \n",
    "        # advance car position\n",
    "        x2 = state.x + vx2\n",
    "        y2 = state.y + vy2\n",
    "        \n",
    "#         # additional random move\n",
    "#         if random.random() > 0.5:\n",
    "#             if random.random() > 0.5:\n",
    "#                 x2 += 1 # move right\n",
    "#             else:\n",
    "#                 y2 += 1 # move forward\n",
    "\n",
    "        collision_y = collision_x = False\n",
    "        # check and fix collisions along 'x'\n",
    "        while True:\n",
    "            s2 = State(x2, state.y, vx2, vy2)\n",
    "            if self._is_on_track(s2):\n",
    "                break\n",
    "            collision_x = True\n",
    "            x2 -= 1\n",
    "            vx2 = 1\n",
    "            assert x2 >= 0\n",
    "        \n",
    "        # check and fix collision along 'y'\n",
    "        while True:\n",
    "            s2 = State(x2, y2, vx2, vy2)\n",
    "            if self._is_on_track(s2):\n",
    "                break\n",
    "            collision_y = True\n",
    "            y2 -= 1\n",
    "            vy2 = 1\n",
    "            assert y2 >= 0\n",
    "            \n",
    "        if collision_y or collision_x:\n",
    "            r = -5\n",
    "        else:\n",
    "            r = -1\n",
    "\n",
    "        if state.x == x2 and state.y == y2:\n",
    "            # the car did not move\n",
    "            if collision_y:\n",
    "                x2 += 1\n",
    "            elif collision_x:\n",
    "                y2 += 1\n",
    "            else:\n",
    "                assert False, 'the car has to move'\n",
    "        \n",
    "        s2 = State(x2, y2, vx2, vy2)\n",
    "        assert self._is_on_track(s2)\n",
    "        \n",
    "        term = self._has_finished(s2)\n",
    "        \n",
    "        if term:\n",
    "            r = 0\n",
    "        return r, s2, term\n",
    "\n",
    "    def reset(self):\n",
    "        max_x = self._track.shape[1]\n",
    "        while True:\n",
    "            x = random.randint(0, max_x)\n",
    "            vx = random.choice([0, 1])\n",
    "            vy = random.choice([0, 1])\n",
    "            if vx == 0 and vy == 0:\n",
    "                continue\n",
    "            s = State(x=x, y=0, vx=vx, vy=vy)\n",
    "            if self._is_on_track(s):\n",
    "                break\n",
    "        self._state = s\n",
    "        return s\n",
    "        \n",
    "    def step(self, action):\n",
    "        r, s2, term = self._transition(self._state, action)\n",
    "        self._state = s2\n",
    "        return s2, r, term, _\n",
    "    \n",
    "    def track_as_np(self):\n",
    "        _track = self._track\n",
    "        track_np = np.zeros_like(_track, dtype=int)\n",
    "        track_np[_track == 'S'] = 1\n",
    "        track_np[_track == 'X'] = 2\n",
    "        track_np[_track == 'F'] = 3\n",
    "        return track_np"
   ]
  },
  {
   "cell_type": "markdown",
   "metadata": {},
   "source": [
    "### Off-Policy Monte Carlo Control"
   ]
  },
  {
   "cell_type": "code",
   "execution_count": 38,
   "metadata": {
    "collapsed": false,
    "deletable": true,
    "editable": true
   },
   "outputs": [],
   "source": [
    "class OffPolicyMC(object):\n",
    "    def __init__(self, env, gamma=0.99):\n",
    "        self.env = env\n",
    "        self._policy = {}\n",
    "        self._Q = defaultdict(lambda: defaultdict(int)) # Q[s][a]\n",
    "        self._C = defaultdict(lambda: defaultdict(int)) # C[s][a]\n",
    "        self.gamma = gamma\n",
    "    \n",
    "    def generate_episode(self, policy):\n",
    "        s = env.reset()\n",
    "        trajectory = []\n",
    "        while True:\n",
    "            a = policy(s)\n",
    "            s2, r, term, _ = self.env.step(a)\n",
    "            t = Transition(s, a, r, s2)\n",
    "            trajectory.append(t)\n",
    "            if term:\n",
    "                break\n",
    "            s = s2\n",
    "        return trajectory\n",
    "    \n",
    "    def random_policy(self, state):\n",
    "        return random.choice(self.env.actions)\n",
    "    \n",
    "    def greedy_policy(self, state):\n",
    "        if state in self._Q:\n",
    "            return max(self._Q[state], key=self._Q[state].get)\n",
    "        else:\n",
    "            return self.random_policy(state)\n",
    "\n",
    "    def optimize(self, n_iter):\n",
    "        myu = 1 / len(self.env.actions) # probability of action under random policy\n",
    "        for _ in tqdm(range(n_iter)):\n",
    "            traj = self.generate_episode(self.random_policy)\n",
    "            G = 0\n",
    "            W = 1\n",
    "            for tr in reversed(traj):\n",
    "                s, a, r = tr.state1, tr.action, tr.reward\n",
    "                G = self.gamma * G + r\n",
    "                self._C[s][a] += W\n",
    "                self._Q[s][a] = self._Q[s][a] + W / self._C[s][a] * (G - self._Q[s][a])\n",
    "                \n",
    "                a_greedy = max(self._Q[s], key=self._Q[s].get)\n",
    "                if a_greedy != a:\n",
    "                    break\n",
    "                W = W * 1 / myu"
   ]
  },
  {
   "cell_type": "markdown",
   "metadata": {},
   "source": [
    "### Solve Racetrack MDP"
   ]
  },
  {
   "cell_type": "code",
   "execution_count": 39,
   "metadata": {
    "collapsed": false,
    "deletable": true,
    "editable": true
   },
   "outputs": [],
   "source": [
    "env = Racetrack(track2)\n",
    "mc = OffPolicyMC(env)"
   ]
  },
  {
   "cell_type": "code",
   "execution_count": 40,
   "metadata": {
    "collapsed": false,
    "deletable": true,
    "editable": true
   },
   "outputs": [
    {
     "name": "stderr",
     "output_type": "stream",
     "text": [
      "100%|██████████| 5000000/5000000 [47:45<00:00, 1744.63it/s] \n"
     ]
    }
   ],
   "source": [
    "mc.optimize(5000000)"
   ]
  },
  {
   "cell_type": "markdown",
   "metadata": {},
   "source": [
    "### Visualize trajectories for the greedy policy"
   ]
  },
  {
   "cell_type": "code",
   "execution_count": 50,
   "metadata": {
    "collapsed": false,
    "deletable": true,
    "editable": true
   },
   "outputs": [
    {
     "name": "stdout",
     "output_type": "stream",
     "text": [
      "return -9\n"
     ]
    },
    {
     "data": {
      "image/png": "[encoded data removed]",
      "text/plain": [
       "<matplotlib.figure.Figure at 0x10a6707b8>"
      ]
     },
     "metadata": {},
     "output_type": "display_data"
    }
   ],
   "source": [
    "plt.imshow(env.track_as_np())\n",
    "plt.gca().invert_yaxis()\n",
    "\n",
    "trajectory = mc.generate_episode(mc.greedy_policy)\n",
    "for t in trajectory:\n",
    "    plt.plot(t.state2.x, t.state2.y, '.r')\n",
    "    \n",
    "rewards = map(lambda t: t.reward, trajectory)\n",
    "print('return', sum(rewards))"
   ]
  },
  {
   "cell_type": "code",
   "execution_count": 61,
   "metadata": {
    "collapsed": false
   },
   "outputs": [
    {
     "name": "stdout",
     "output_type": "stream",
     "text": [
      "return -8\n"
     ]
    },
    {
     "data": {
      "image/png": "[encoded data removed]",
      "text/plain": [
       "<matplotlib.figure.Figure at 0x109ea5cf8>"
      ]
     },
     "metadata": {},
     "output_type": "display_data"
    }
   ],
   "source": [
    "plt.imshow(env.track_as_np())\n",
    "plt.gca().invert_yaxis()\n",
    "\n",
    "trajectory = mc.generate_episode(mc.greedy_policy)\n",
    "for t in trajectory:\n",
    "    plt.plot(t.state2.x, t.state2.y, '.r')\n",
    "    \n",
    "rewards = map(lambda t: t.reward, trajectory)\n",
    "print('return', sum(rewards))"
   ]
  },
  {
   "cell_type": "code",
   "execution_count": 117,
   "metadata": {
    "collapsed": false
   },
   "outputs": [
    {
     "name": "stdout",
     "output_type": "stream",
     "text": [
      "return -9\n"
     ]
    },
    {
     "data": {
      "image/png": "[encoded data removed]",
      "text/plain": [
       "<matplotlib.figure.Figure at 0x10a694588>"
      ]
     },
     "metadata": {},
     "output_type": "display_data"
    }
   ],
   "source": [
    "plt.imshow(env.track_as_np())\n",
    "plt.gca().invert_yaxis()\n",
    "\n",
    "trajectory = mc.generate_episode(mc.greedy_policy)\n",
    "for t in trajectory:\n",
    "    plt.plot(t.state2.x, t.state2.y, '.r')\n",
    "    \n",
    "rewards = map(lambda t: t.reward, trajectory)\n",
    "print('return', sum(rewards))"
   ]
  },
  {
   "cell_type": "markdown",
   "metadata": {},
   "source": [
    "Note that at the last position before the finish line the car tries to go off the track. The way the game rules are defined it does not get penalized as long as it crosses the finish line."
   ]
  },
  {
   "cell_type": "markdown",
   "metadata": {},
   "source": [
    "### Visualize optimal value function"
   ]
  },
  {
   "cell_type": "code",
   "execution_count": null,
   "metadata": {
    "collapsed": true
   },
   "outputs": [],
   "source": [
    "np.full_like"
   ]
  },
  {
   "cell_type": "code",
   "execution_count": 111,
   "metadata": {
    "collapsed": false
   },
   "outputs": [],
   "source": [
    "V_xy = np.full_like(env.track_as_np(), -np.inf,dtype=float)\n",
    "\n",
    "Q_max = defaultdict(list)\n",
    "for s, actions in mc._Q.items():\n",
    "    Q_max[s.y, s.x].append(max(mc._Q[s].values()))\n",
    "    \n",
    "for pos, vals in Q_max.items():\n",
    "    V_xy[pos] = np.mean(vals)\n",
    "    "
   ]
  },
  {
   "cell_type": "code",
   "execution_count": 115,
   "metadata": {
    "collapsed": false
   },
   "outputs": [
    {
     "data": {
      "image/png": "[encoded data removed]",
      "text/plain": [
       "<matplotlib.figure.Figure at 0x10a439780>"
      ]
     },
     "metadata": {},
     "output_type": "display_data"
    }
   ],
   "source": [
    "plt.imshow(V_xy)\n",
    "plt.colorbar()\n",
    "plt.gca().invert_yaxis()"
   ]
  },
  {
   "cell_type": "markdown",
   "metadata": {},
   "source": [
    "### Check action-state coverage by Monte Carlo"
   ]
  },
  {
   "cell_type": "code",
   "execution_count": 63,
   "metadata": {
    "collapsed": false,
    "deletable": true,
    "editable": true
   },
   "outputs": [
    {
     "data": {
      "text/plain": [
       "(23, 483)"
      ]
     },
     "execution_count": 63,
     "metadata": {},
     "output_type": "execute_result"
    }
   ],
   "source": [
    "# count all possible car positions\n",
    "n_start_positions = (env._track == 'S').sum()\n",
    "n_track_positions = (env._track == 'X').sum()\n",
    "n_start_positions, n_track_positions"
   ]
  },
  {
   "cell_type": "code",
   "execution_count": 78,
   "metadata": {
    "collapsed": false
   },
   "outputs": [
    {
     "name": "stdout",
     "output_type": "stream",
     "text": [
      "n_possible_states =  7314\n",
      "n_sampled_states =  5166\n",
      "n_sampled_states / n_possible_states = 71%\n"
     ]
    }
   ],
   "source": [
    "# count all possible states, each state is car's position and speed\n",
    "n_possible_states = n_start_positions * 3 + n_track_positions * (MAX_SPEED * MAX_SPEED - 1)\n",
    "n_sampled_states = len(mc._Q)\n",
    "print('n_possible_states = ', n_possible_states)\n",
    "print('n_sampled_states = ', n_sampled_states)\n",
    "print('n_sampled_states / n_possible_states = %d%%'\n",
    "      % round(n_sampled_states/n_possible_states * 100))"
   ]
  },
  {
   "cell_type": "code",
   "execution_count": 80,
   "metadata": {
    "collapsed": false
   },
   "outputs": [
    {
     "name": "stdout",
     "output_type": "stream",
     "text": [
      "n_possible_state_actions =  65826\n",
      "n_sampled_state_actions =  21909\n",
      "n_sampled_state_actions / n_possible_state_actions = 33%\n"
     ]
    }
   ],
   "source": [
    "n_possible_state_actions = n_possible_states * len(env.actions)\n",
    "n_sampled_state_actions = sum(map(lambda v: len(v), mc._Q.values()))\n",
    "print('n_possible_state_actions = ', n_possible_state_actions)\n",
    "print('n_sampled_state_actions = ', n_sampled_state_actions)\n",
    "print('n_sampled_state_actions / n_possible_state_actions = %d%%'\n",
    "      % round(n_sampled_state_actions/n_possible_state_actions * 100))"
   ]
  },
  {
   "cell_type": "code",
   "execution_count": null,
   "metadata": {
    "collapsed": true
   },
   "outputs": [],
   "source": []
  }
 ],
 "metadata": {
  "kernelspec": {
   "display_name": "Python 3",
   "language": "python",
   "name": "python3"
  },
  "language_info": {
   "codemirror_mode": {
    "name": "ipython",
    "version": 3
   },
   "file_extension": ".py",
   "mimetype": "text/x-python",
   "name": "python",
   "nbconvert_exporter": "python",
   "pygments_lexer": "ipython3",
   "version": "3.6.1"
  }
 },
 "nbformat": 4,
 "nbformat_minor": 2
}
