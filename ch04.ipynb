{
 "cells": [
  {
   "cell_type": "markdown",
   "metadata": {
    "deletable": true,
    "editable": true
   },
   "source": [
    "## Excercise 4.5"
   ]
  },
  {
   "cell_type": "markdown",
   "metadata": {},
   "source": [
    "Other solutions:\n",
    "* https://github.com/kkleidal/SuttonRLExercises/tree/master/chapters/4\n",
    "* https://github.com/ShangtongZhang/reinforcement-learning-an-introduction/tree/master/chapter04"
   ]
  },
  {
   "cell_type": "code",
   "execution_count": 2,
   "metadata": {
    "collapsed": true,
    "deletable": true,
    "editable": true
   },
   "outputs": [],
   "source": [
    "import sys\n",
    "import numpy as np\n",
    "from scipy import stats\n",
    "import tqdm\n",
    "%matplotlib inline\n",
    "import matplotlib.pyplot as plt"
   ]
  },
  {
   "cell_type": "code",
   "execution_count": 3,
   "metadata": {
    "collapsed": true,
    "deletable": true,
    "editable": true
   },
   "outputs": [],
   "source": [
    "poisson_cache = {}\n",
    "def poisson(k, k_max, lam):\n",
    "    \"\"\"Truncated Poisson distribution\"\"\"\n",
    "    global poisson_cache\n",
    "    if (k, k_max, lam) in poisson_cache:\n",
    "        return poisson_cache[(k, k_max, lam)]\n",
    "\n",
    "    if k < k_max:\n",
    "        p = stats.poisson.pmf(k, lam)\n",
    "    elif k == k_max:\n",
    "        # basically it's mass of the right tail\n",
    "        p = 1 - stats.poisson.cdf(k_max-1, lam)\n",
    "    else:\n",
    "        assert False, 'k > k_max'\n",
    "    \n",
    "    poisson_cache[(k, k_max, lam)] = p\n",
    "    return p"
   ]
  },
  {
   "cell_type": "code",
   "execution_count": 4,
   "metadata": {
    "collapsed": false,
    "deletable": true,
    "editable": true
   },
   "outputs": [],
   "source": [
    "# MDP as per Example 4.2\n",
    "class MDP(object):\n",
    "    def __init__(self,\n",
    "                 rent_reward=10,\n",
    "                 transfer_cost=2,\n",
    "                 expected_req1=3,\n",
    "                 expected_req2=4,\n",
    "                 expected_ret1=3,\n",
    "                 expected_ret2=2,\n",
    "                 max_parking=20,\n",
    "                 max_transfer=5,\n",
    "                 gamma=0.9):\n",
    "        self.rent_reward = rent_reward\n",
    "        self.transfer_cost = transfer_cost\n",
    "        self.expected_req1 = expected_req1\n",
    "        self.expected_req2 = expected_req2\n",
    "        self.expected_ret1 = expected_ret1\n",
    "        self.expected_ret2 = expected_ret2\n",
    "        self.max_parking = max_parking\n",
    "        self.max_transfer = max_transfer\n",
    "        self.gamma = gamma\n",
    "        \n",
    "        self.policy = np.zeros((self.max_parking + 1,\n",
    "                                self.max_parking + 1),\n",
    "                                dtype=int)\n",
    "        \n",
    "        self.values = np.zeros((self.max_parking + 1,\n",
    "                                self.max_parking + 1),\n",
    "                                dtype=float)\n",
    "        \n",
    "        self.theta = 1.0 # threshold to stop policy evaluation \n",
    "\n",
    "    def transitions(self, n_cars, req_expected, ret_expected):\n",
    "        \"\"\"Iterator over all possible transitions from given number of cars\"\"\"\n",
    "        p_total = 0.0\n",
    "        for req in range(n_cars + 1):\n",
    "            p_req = poisson(req, n_cars, req_expected)\n",
    "            max_ret = self.max_parking - (n_cars - req)\n",
    "            for ret in range(max_ret + 1):\n",
    "                p_ret = poisson(ret, max_ret, ret_expected)\n",
    "                yield req, p_req, ret, p_ret\n",
    "                p_total += p_req * p_ret\n",
    "        assert np.allclose(p_total, 1.0), 'Total probability must be 1.0'\n",
    "\n",
    "    def states(self):\n",
    "        \"\"\"Iterator over all states\"\"\"\n",
    "        for n1 in range(self.max_parking + 1):\n",
    "            for n2 in range(self.max_parking + 1):\n",
    "                yield n1, n2\n",
    "    \n",
    "    def actions_in_state(self, n1, n2):\n",
    "        \"\"\"Iterator over all actions in state\"\"\"\n",
    "        assert n1 <= self.max_parking\n",
    "        assert n2 <= self.max_parking\n",
    "\n",
    "        for a in range(min(n1, self.max_transfer) + 1):\n",
    "            if (a + n2) > self.max_parking:\n",
    "                break\n",
    "            yield a\n",
    "        \n",
    "        # since a=0 was already yielded, start with 1\n",
    "        for a in range(1, min(n2, self.max_transfer) + 1):\n",
    "            if (a + n1) > self.max_parking:\n",
    "                break\n",
    "            yield -a\n",
    "    \n",
    "    def q_value(self, n1, n2, action):\n",
    "        q = -self.transfer_cost * abs(action)\n",
    "        n1_post = n1 - action\n",
    "        n2_post = n2 + action\n",
    "\n",
    "        assert n1_post >= 0, 'n1_post >= 0'\n",
    "        assert n2_post >= 0, 'n2_post >= 0'\n",
    "        assert n1_post <= self.max_parking, 'n1_post <= self.max_parking'\n",
    "        assert n2_post <= self.max_parking, 'n2_post <= self.max_parking'\n",
    "\n",
    "        for req1, p_req1, ret1, p_ret1 in self.transitions(n1_post,\n",
    "                                                           self.expected_req1,\n",
    "                                                           self.expected_ret1):\n",
    "            for req2, p_req2, ret2, p_ret2 in self.transitions(n2_post,\n",
    "                                                               self.expected_req2,\n",
    "                                                               self.expected_ret2):\n",
    "                p = p_req1 * p_ret1 * p_req2 * p_ret2                \n",
    "                r = self.rent_reward * (req1 + req2)\n",
    "\n",
    "                n1_next = n1_post - req1 + ret1\n",
    "                n2_next = n2_post - req2 + ret2\n",
    "\n",
    "                assert n1_next >= 0, 'n1_next >= 0'\n",
    "                assert n2_next >= 0, 'n2_next >= 0'\n",
    "                assert n1_next <= self.max_parking, 'n1_next <= self.max_parking'\n",
    "                assert n2_next <= self.max_parking, 'n2_next <= self.max_parking'\n",
    "\n",
    "                q += p * (r + self.gamma * self.values[n1_next, n2_next])\n",
    "        return q\n",
    "\n",
    "    def policy_evaluation(self):\n",
    "        while True:\n",
    "            values_new = np.zeros_like(self.values)\n",
    "            for n1, n2 in self.states():\n",
    "                action = self.policy[n1, n2]\n",
    "                q = self.q_value(n1, n2, action)\n",
    "                values_new[n1,n2] = q\n",
    "            \n",
    "            diff = np.abs(values_new - self.values)\n",
    "            max_diff = np.max(diff)\n",
    "            \n",
    "            self.values = values_new\n",
    "            sys.stdout.write('.')\n",
    "            if max_diff < self.theta:\n",
    "                break\n",
    "        sys.stdout.write('\\n')\n",
    "            \n",
    "    def policy_improvement(self):\n",
    "        changed = False\n",
    "        for n1, n2 in self.states():\n",
    "            actions = list(self.actions_in_state(n1, n2))\n",
    "            qs = list(map(lambda a: self.q_value(n1, n2, a), actions))\n",
    "            best_a = actions[np.argmax(qs)]\n",
    "            if self.policy[n1,n2] != best_a:\n",
    "                changed = True\n",
    "                self.policy[n1,n2] = best_a\n",
    "        return changed\n",
    "    \n",
    "    def policy_iteration(self):\n",
    "        i = 0\n",
    "        while True:\n",
    "            print('policy iteration', i)\n",
    "            self.policy_evaluation()\n",
    "            changed = self.policy_improvement()\n",
    "            \n",
    "            if not changed:\n",
    "                break\n",
    "            i += 1"
   ]
  },
  {
   "cell_type": "code",
   "execution_count": 5,
   "metadata": {
    "collapsed": false,
    "deletable": true,
    "editable": true
   },
   "outputs": [
    {
     "name": "stdout",
     "output_type": "stream",
     "text": [
      "policy iteration 0\n",
      "......................................\n",
      "policy iteration 1\n",
      ".........\n",
      "policy iteration 2\n",
      ".........\n",
      "policy iteration 3\n",
      "..\n",
      "policy iteration 4\n",
      ".\n",
      "policy iteration 5\n",
      ".\n"
     ]
    }
   ],
   "source": [
    "mdp1 = MDP(max_parking=20)\n",
    "mdp1.policy_iteration()"
   ]
  },
  {
   "cell_type": "code",
   "execution_count": 15,
   "metadata": {
    "collapsed": false
   },
   "outputs": [],
   "source": [
    "def visualize(mdp):\n",
    "    height = mdp.policy.shape[0]\n",
    "    width = mdp.policy.shape[1]\n",
    "    \n",
    "    y_ticks = np.arange(height) + 0.5\n",
    "    x_ticks = np.arange(width) + 0.5\n",
    "    y_labels = np.arange(height + 1)\n",
    "    x_labels = np.arange(width + 1)\n",
    "\n",
    "    fig, axs = plt.subplots(1, 2, figsize=(16, 6))    \n",
    "    ax = axs[0]\n",
    "    pc = ax.pcolor(mdp.policy)\n",
    "    fig.colorbar(pc, ax=ax)\n",
    "    ax.set_yticks(y_ticks)\n",
    "    ax.set_xticks(x_ticks)\n",
    "    ax.set_yticklabels(y_labels)\n",
    "    ax.set_xticklabels(x_labels)\n",
    "    ax.set_title('policy')\n",
    "    \n",
    "    ax = axs[1]\n",
    "    pc = ax.pcolor(mdp.values)\n",
    "    fig.colorbar(pc, ax=ax)\n",
    "    ax.set_yticks(y_ticks)\n",
    "    ax.set_xticks(x_ticks)\n",
    "    ax.set_yticklabels(y_labels)\n",
    "    ax.set_xticklabels(x_labels)\n",
    "    ax.set_title('values')\n",
    "    \n",
    "    plt.show()"
   ]
  },
  {
   "cell_type": "code",
   "execution_count": 16,
   "metadata": {
    "collapsed": false,
    "scrolled": false
   },
   "outputs": [
    {
     "data": {
      "image/png": "[encoded data removed]",
      "text/plain": [
       "<matplotlib.figure.Figure at 0x109e1f0b8>"
      ]
     },
     "metadata": {},
     "output_type": "display_data"
    }
   ],
   "source": [
    "visualize(mdp1)"
   ]
  },
  {
   "cell_type": "code",
   "execution_count": 8,
   "metadata": {
    "collapsed": true
   },
   "outputs": [],
   "source": [
    "# MDP as per Exercise 4.5\n",
    "class MDP_ex45(MDP):\n",
    "    def __init__(self, *args, **kwargs):\n",
    "        super().__init__(*args, **kwargs)\n",
    "    \n",
    "    def q_value(self, n1, n2, action):\n",
    "        q = 0.0\n",
    "        if action < 0:\n",
    "            # one car will be driven by employee from the second location to the first\n",
    "            q -= self.transfer_cost * (abs(action) - 1)\n",
    "        else:\n",
    "            q -= self.transfer_cost * abs(action)\n",
    "\n",
    "        n1_post = n1 - action\n",
    "        n2_post = n2 + action\n",
    "        \n",
    "        if n1_post > 10:\n",
    "            # pay for extra parking\n",
    "            q -= 4\n",
    "            \n",
    "        if n2_post > 10:\n",
    "            # pay for extra parking\n",
    "            q -= 4\n",
    "\n",
    "        assert n1_post >= 0, 'n1_post >= 0'\n",
    "        assert n2_post >= 0, 'n2_post >= 0'\n",
    "        assert n1_post <= self.max_parking, 'n1_post <= self.max_parking'\n",
    "        assert n2_post <= self.max_parking, 'n2_post <= self.max_parking'\n",
    "\n",
    "        for req1, p_req1, ret1, p_ret1 in self.transitions(n1_post,\n",
    "                                                           self.expected_req1,\n",
    "                                                           self.expected_ret1):\n",
    "            for req2, p_req2, ret2, p_ret2 in self.transitions(n2_post,\n",
    "                                                               self.expected_req2,\n",
    "                                                               self.expected_ret2):\n",
    "                p = p_req1 * p_ret1 * p_req2 * p_ret2                \n",
    "                r = self.rent_reward * (req1 + req2)\n",
    "\n",
    "                n1_next = n1_post - req1 + ret1\n",
    "                n2_next = n2_post - req2 + ret2\n",
    "\n",
    "                assert n1_next >= 0, 'n1_next >= 0'\n",
    "                assert n2_next >= 0, 'n2_next >= 0'\n",
    "                assert n1_next <= self.max_parking, 'n1_next <= self.max_parking'\n",
    "                assert n2_next <= self.max_parking, 'n2_next <= self.max_parking'\n",
    "\n",
    "                q += p * (r + self.gamma * self.values[n1_next, n2_next])\n",
    "        return q"
   ]
  },
  {
   "cell_type": "code",
   "execution_count": 9,
   "metadata": {
    "collapsed": true
   },
   "outputs": [],
   "source": [
    "mdp2 = MDP_ex45(max_parking=20)"
   ]
  },
  {
   "cell_type": "code",
   "execution_count": 10,
   "metadata": {
    "collapsed": false
   },
   "outputs": [
    {
     "name": "stdout",
     "output_type": "stream",
     "text": [
      "policy iteration 0\n",
      "......................................\n",
      "policy iteration 1\n",
      "............\n",
      "policy iteration 2\n",
      "..........\n",
      "policy iteration 3\n",
      "..\n",
      "policy iteration 4\n",
      ".\n"
     ]
    }
   ],
   "source": [
    "mdp2.policy_iteration()"
   ]
  },
  {
   "cell_type": "code",
   "execution_count": 17,
   "metadata": {
    "collapsed": false
   },
   "outputs": [
    {
     "data": {
      "image/png": "[encoded data removed]",
      "text/plain": [
       "<matplotlib.figure.Figure at 0x1097f5358>"
      ]
     },
     "metadata": {},
     "output_type": "display_data"
    }
   ],
   "source": [
    "visualize(mdp1)"
   ]
  },
  {
   "cell_type": "code",
   "execution_count": 18,
   "metadata": {
    "collapsed": false
   },
   "outputs": [
    {
     "data": {
      "image/png": "[encoded data removed]",
      "text/plain": [
       "<matplotlib.figure.Figure at 0x109743dd8>"
      ]
     },
     "metadata": {},
     "output_type": "display_data"
    }
   ],
   "source": [
    "visualize(mdp2)"
   ]
  },
  {
   "cell_type": "code",
   "execution_count": null,
   "metadata": {
    "collapsed": true
   },
   "outputs": [],
   "source": []
  }
 ],
 "metadata": {
  "kernelspec": {
   "display_name": "Python 3",
   "language": "python",
   "name": "python3"
  },
  "language_info": {
   "codemirror_mode": {
    "name": "ipython",
    "version": 3
   },
   "file_extension": ".py",
   "mimetype": "text/x-python",
   "name": "python",
   "nbconvert_exporter": "python",
   "pygments_lexer": "ipython3",
   "version": "3.6.0"
  }
 },
 "nbformat": 4,
 "nbformat_minor": 2
}
