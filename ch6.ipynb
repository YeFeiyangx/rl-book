{
 "cells": [
  {
   "cell_type": "markdown",
   "metadata": {},
   "source": [
    "* [Exercise 6.7: Windy Gridworld with King’s Moves](#Exercise-6.7:-Windy-Gridworld-with-King’s-Moves)"
   ]
  },
  {
   "cell_type": "markdown",
   "metadata": {},
   "source": [
    "## Exercise 6.7: Windy Gridworld with King’s Moves"
   ]
  },
  {
   "cell_type": "markdown",
   "metadata": {},
   "source": [
    "### Create Windy Grid World environment"
   ]
  },
  {
   "cell_type": "code",
   "execution_count": 3,
   "metadata": {
    "collapsed": true
   },
   "outputs": [],
   "source": [
    "import numpy as np"
   ]
  },
  {
   "cell_type": "code",
   "execution_count": 18,
   "metadata": {
    "collapsed": true
   },
   "outputs": [],
   "source": [
    "ACTION_TO_XY = {\n",
    "    'left': (-1, 0),\n",
    "    'right': (1, 0),\n",
    "    'up': (0, 1),\n",
    "    'down': (0, -1),\n",
    "    'up_left': (-1, 1),\n",
    "    'down_left': (-1, -1),\n",
    "    'up_right': (1, 1),\n",
    "    'down_right': (1, -1),\n",
    "    'stop': (0, 0)\n",
    "}\n",
    "\n",
    "# convert tuples to np so we can do math with states\n",
    "ACTION_TO_XY = {a: np.array(xy) for a, xy in ACTION_TO_XY.items()}"
   ]
  },
  {
   "cell_type": "code",
   "execution_count": 21,
   "metadata": {
    "collapsed": true
   },
   "outputs": [],
   "source": [
    "class WindyGridworld(object):\n",
    "    def __init__(self):\n",
    "        self._state = None\n",
    "        self._goal = np.array([7, 3]) # goal state, XY\n",
    "        self._start = np.array([0, 3]) # start state, XY\n",
    "        self._shape = [10, 7] # grid world shape, XY\n",
    "        self._wind_x = [0, 0, 0, 1, 1, 1, 2, 2, 1, 0]\n",
    "        assert len(self._wind_x) == self._shape[0]\n",
    "        \n",
    "    def reset(self):\n",
    "        self._state = self._start\n",
    "        \n",
    "    def _clip_state(self):        \n",
    "        self._state[0] = np.clip(self._state[0], 0, self._shape[0] - 1) # clip x\n",
    "        self._state[1] = np.clip(self._state[1], 0, self._shape[1] - 1) # clip y\n",
    "        \n",
    "    def step(self, action):\n",
    "        a_xy = ACTION_TO_XY[action]\n",
    "        \n",
    "        # apply action\n",
    "        self._state += a_xy\n",
    "        self._clip_state()\n",
    "        # apply wind shift\n",
    "        wind_shift = [0, self._wind_x[self._state[0]]]\n",
    "        self._state += np.array(wind_shift)\n",
    "        self._clip_state()\n",
    "        \n",
    "        reward = -1\n",
    "        term = True if np.all(self._goal == self._state) else False\n",
    "        \n",
    "        return self._state, reward, term, None"
   ]
  },
  {
   "cell_type": "code",
   "execution_count": 24,
   "metadata": {
    "collapsed": false
   },
   "outputs": [],
   "source": [
    "world = WindyGridworld()\n",
    "world.reset()"
   ]
  },
  {
   "cell_type": "code",
   "execution_count": 40,
   "metadata": {
    "collapsed": true
   },
   "outputs": [],
   "source": [
    "class SarsaAgent(object):\n",
    "    pass"
   ]
  },
  {
   "cell_type": "code",
   "execution_count": null,
   "metadata": {
    "collapsed": true
   },
   "outputs": [],
   "source": []
  }
 ],
 "metadata": {
  "kernelspec": {
   "display_name": "Python 3",
   "language": "python",
   "name": "python3"
  },
  "language_info": {
   "codemirror_mode": {
    "name": "ipython",
    "version": 3
   },
   "file_extension": ".py",
   "mimetype": "text/x-python",
   "name": "python",
   "nbconvert_exporter": "python",
   "pygments_lexer": "ipython3",
   "version": "3.6.1"
  }
 },
 "nbformat": 4,
 "nbformat_minor": 2
}
